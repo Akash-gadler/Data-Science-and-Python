{
 "cells": [
  {
   "cell_type": "markdown",
   "id": "b2fed30f-7a35-4870-822f-e9be8d212c9e",
   "metadata": {},
   "source": [
    "# Learning Python"
   ]
  },
  {
   "cell_type": "markdown",
   "id": "1dc508fd-f3f0-44cc-a572-d6bc5133dcbf",
   "metadata": {},
   "source": [
    "# What are the different types of Data types"
   ]
  },
  {
   "cell_type": "code",
   "execution_count": 95,
   "id": "2d633875-a620-4989-892f-7879d4ae226c",
   "metadata": {},
   "outputs": [
    {
     "name": "stdout",
     "output_type": "stream",
     "text": [
      "data type of X <class 'float'>\n",
      "Printed data 0.6789\n",
      "data type of Y <class 'int'>\n",
      "Printed data 12\n",
      "data type of String <class 'str'>\n",
      "Printed data This is my first Python coding\n",
      "data type of Boo <class 'bool'>\n",
      "Printed data True\n",
      "data type of arr <class 'list'>\n",
      "Printed data [10, 12, 13]\n",
      "data type of tuples <class 'list'>\n",
      "Printed data [{10, 'first'}, {'second', 12}]\n",
      "data type of comp <class 'complex'>\n",
      "Printed data 3j\n",
      "data type of def <class 'dict'>\n",
      "Printed data {'x': 12, 'y': 23.56}\n",
      "data type of def <class 'set'>\n",
      "Printed data {'a', 'z', 'x', 'y'}\n"
     ]
    }
   ],
   "source": [
    "x = 0.6789\n",
    "print(\"data type of X\", type(x))\n",
    "print(\"Printed data\", x)\n",
    "y = 12\n",
    "print(\"data type of Y\", type(y))\n",
    "print(\"Printed data\", y)\n",
    "str = 'This is my first Python coding'\n",
    "print(\"data type of String\", type(str))\n",
    "print(\"Printed data\", str)\n",
    "boo = True\n",
    "print(\"data type of Boo\", type(boo))\n",
    "print(\"Printed data\", boo)\n",
    "arr = [10,12,13]\n",
    "print(\"data type of arr\", type(arr))\n",
    "print(\"Printed data\", arr)\n",
    "tuples = [{10,'first'},{12,'second'}]\n",
    "print(\"data type of tuples\", type(tuples))\n",
    "print(\"Printed data\", tuples)\n",
    "z = 0\n",
    "comp = z+3j\n",
    "print(\"data type of comp\", type(comp))\n",
    "print(\"Printed data\", comp)\n",
    "deff = {'x':12,'y':23.56}\n",
    "print(\"data type of def\", type(deff))\n",
    "print(\"Printed data\", deff)\n",
    "setts = {'x','y','z','z','a'}\n",
    "print(\"data type of def\", type(setts))\n",
    "print(\"Printed data\", setts)\n",
    "\n",
    "\n",
    "\n",
    "\n",
    "\n"
   ]
  },
  {
   "cell_type": "markdown",
   "id": "858b6f5e-a169-4eba-9319-fea8e314aa64",
   "metadata": {},
   "source": [
    "## data type of def <class 'set'>\n",
    "### Printed data {'a', 'z', 'x', 'y'}"
   ]
  },
  {
   "cell_type": "markdown",
   "id": "749c56c0-74f7-45af-ba89-90d4372569c9",
   "metadata": {},
   "source": [
    "#####            In set it follows the first come last out approch\n",
    "#####            Set is similar to the dictonary to but set doesnt have the key value pair but dictonary has the key value pair. \n"
   ]
  },
  {
   "cell_type": "markdown",
   "id": "e3ec986d-3bd9-4028-9059-3030c21647f3",
   "metadata": {},
   "source": [
    "## data type of def <class 'dict'>\n",
    "### Printed data {'x': 12, 'y': 23.56}"
   ]
  },
  {
   "cell_type": "markdown",
   "id": "d31a6cc1-40c2-426e-8bac-2903d935c989",
   "metadata": {},
   "source": [
    "#####            In Dictonary it follows the first come first out approch.\n"
   ]
  },
  {
   "cell_type": "markdown",
   "id": "518068b3-7f0b-4f8e-b887-2c974f1fc123",
   "metadata": {},
   "source": [
    "# String Vs Array\n",
    "\n"
   ]
  },
  {
   "cell_type": "markdown",
   "id": "167759e1-eb43-4cd8-b6c9-682e7e32157e",
   "metadata": {},
   "source": [
    "# Positive Indexing 0 to all positive index"
   ]
  },
  {
   "cell_type": "code",
   "execution_count": 124,
   "id": "245cd4fd-614e-43b7-a253-c1a812b3fe0f",
   "metadata": {},
   "outputs": [
    {
     "name": "stdout",
     "output_type": "stream",
     "text": [
      "P\n",
      "Python\n"
     ]
    }
   ],
   "source": [
    "strs = 'Python'\n",
    "print(strs[0])\n",
    "arrs = ['Python','c++','JS']\n",
    "print(arrs[0])"
   ]
  },
  {
   "cell_type": "markdown",
   "id": "9f27fbac-62a4-4741-acd8-864f1da4e4c9",
   "metadata": {},
   "source": [
    "# Negative indexing -1 to all negative index\n"
   ]
  },
  {
   "cell_type": "code",
   "execution_count": 131,
   "id": "e2a2059e-7b52-4e49-a4c4-6984426608da",
   "metadata": {},
   "outputs": [
    {
     "name": "stdout",
     "output_type": "stream",
     "text": [
      "n\n",
      "JS\n"
     ]
    }
   ],
   "source": [
    "strs = 'Python'\n",
    "print(strs[-1])\n",
    "arrs = ['Python','c++','JS']\n",
    "print(arrs[-1])"
   ]
  },
  {
   "cell_type": "markdown",
   "id": "b113cec1-be70-4fc3-ba27-ac2295c18863",
   "metadata": {},
   "source": [
    "# For loop \n"
   ]
  },
  {
   "cell_type": "markdown",
   "id": "622cb3f6-110e-4f54-9d52-51d01437b219",
   "metadata": {},
   "source": [
    "## For loop with List"
   ]
  },
  {
   "cell_type": "code",
   "execution_count": 147,
   "id": "4dcaa220-599b-41af-9803-ed14636eb005",
   "metadata": {},
   "outputs": [
    {
     "name": "stdout",
     "output_type": "stream",
     "text": [
      "Python\n",
      "c++\n",
      "JS\n"
     ]
    }
   ],
   "source": [
    "for i in range(len(arrs)):\n",
    "    print(arrs[i])"
   ]
  },
  {
   "cell_type": "markdown",
   "id": "213b636a-9693-44c5-9776-6c0ed6a9e066",
   "metadata": {},
   "source": [
    "## For loop with Set\n",
    "\n",
    "### Adding value to set\n",
    "## Add() \n",
    "#### setts.add('aa')"
   ]
  },
  {
   "cell_type": "code",
   "execution_count": 166,
   "id": "469de174-18ac-45e5-ae2b-d4a62e5d6a60",
   "metadata": {},
   "outputs": [
    {
     "name": "stdout",
     "output_type": "stream",
     "text": [
      "aabc\n",
      "x\n",
      "aa\n",
      "a\n",
      "y\n",
      "z\n",
      "{'aabc', 'x', 'aa', 'a', 'y', 'z'}\n"
     ]
    }
   ],
   "source": [
    "setts.add('aa')\n",
    "setts.add('aabc')\n",
    "for i in setts:\n",
    "    print(i);\n",
    "print(setts)"
   ]
  },
  {
   "cell_type": "markdown",
   "id": "24e2443b-4e20-4d20-bce7-ad50875c527c",
   "metadata": {},
   "source": [
    "## For Loop in dictionary "
   ]
  },
  {
   "cell_type": "markdown",
   "id": "077ab9af-d7aa-4247-9f45-1b1325c71f3b",
   "metadata": {},
   "source": [
    "#### Adding value to array by using  \n",
    "# Append "
   ]
  },
  {
   "cell_type": "markdown",
   "id": "7539f001-0776-49c4-8fee-41a771d7d6c8",
   "metadata": {},
   "source": [
    "\n",
    "### arrdeff.append({'x':1245,'y':23})  "
   ]
  },
  {
   "cell_type": "code",
   "execution_count": 228,
   "id": "dcedbfc0-6ba2-4745-aed9-6f777b911bd7",
   "metadata": {},
   "outputs": [
    {
     "name": "stdout",
     "output_type": "stream",
     "text": [
      "<class 'float'>\n",
      "<class 'int'>\n",
      "[{'x': 12, 'y': 23.56}, {'x': 1245, 'y': 23}]\n"
     ]
    }
   ],
   "source": [
    "deff = {'x':12,'y':23.56}\n",
    "arrdeff = [deff]\n",
    "arrdeff.append({'x':1245,'y':23}) \n",
    "for i in range(len(arrdeff)):\n",
    "    print(type(arrdeff[i].get('y')))\n",
    "print(arrdeff)"
   ]
  },
  {
   "cell_type": "code",
   "execution_count": null,
   "id": "282df2d3-57c6-4a25-8163-3ade866656fe",
   "metadata": {},
   "outputs": [],
   "source": []
  }
 ],
 "metadata": {
  "kernelspec": {
   "display_name": "Python 3 (ipykernel)",
   "language": "python",
   "name": "python3"
  },
  "language_info": {
   "codemirror_mode": {
    "name": "ipython",
    "version": 3
   },
   "file_extension": ".py",
   "mimetype": "text/x-python",
   "name": "python",
   "nbconvert_exporter": "python",
   "pygments_lexer": "ipython3",
   "version": "3.12.3"
  }
 },
 "nbformat": 4,
 "nbformat_minor": 5
}
