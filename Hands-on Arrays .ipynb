{
 "cells": [
  {
   "cell_type": "markdown",
   "id": "b24b3e7c-3ab9-46b9-87c4-c533e684687e",
   "metadata": {},
   "source": [
    "## Question 1: Analyzing Student Scores\n",
    "You are provided with a list of student scores in a class. Perform the following operations: Find and display the highest score in the class. Calculate and print the average score of the class. Identify and display the names of students who scored above a certain threshold (e.g., 80). Sort and display the student names in alphabetical order.\n"
   ]
  },
  {
   "cell_type": "code",
   "execution_count": 39,
   "id": "3d1f3556-3c8f-40a9-ab6b-8d6045912847",
   "metadata": {},
   "outputs": [
    {
     "name": "stdout",
     "output_type": "stream",
     "text": [
      "Highst mark 240\n",
      "Average mark 48\n"
     ]
    }
   ],
   "source": [
    "Student_Score = [20,30,50,240,90,120,30]\n",
    "for u in range(len(Student_Score)-1):\n",
    "    for i in range (len(Student_Score)-1):\n",
    "        if ((i < len(Student_Score)) and (Student_Score[i] > Student_Score[i+1])):\n",
    "            temp = Student_Score[i]\n",
    "            Student_Score[i] = Student_Score[i+1]\n",
    "            Student_Score[i+1] = temp\n",
    "    u=u+1\n",
    "\n",
    "def get_AvgScore(number_array):\n",
    "    total = 0\n",
    "    for u in range(len(number_array)-1):\n",
    "      \n",
    "        total = number_array[u] + total\n",
    "    arraysize = len(number_array)\n",
    "    avg_score = total/arraysize\n",
    "    return avg_score\n",
    "\n",
    "print('Highst mark',Student_Score[arraysize-1])\n",
    "print('Average mark',int(get_AvgScore(Student_Score)))\n",
    "\n",
    "        "
   ]
  },
  {
   "attachments": {},
   "cell_type": "markdown",
   "id": "fb0e1e2e-01f3-45b3-9957-c28138efc60a",
   "metadata": {},
   "source": [
    "## Question 2: Generate Squares and Cubes\n",
    "Write a program to generate two lists using list comprehension. The first list should contain the squares of numbers from 1 to 10, and the second list should contain the cubes of the same numbers.\n"
   ]
  },
  {
   "cell_type": "code",
   "execution_count": 59,
   "id": "b1c1d422-a8d1-45cd-8c38-e098d367270e",
   "metadata": {},
   "outputs": [
    {
     "name": "stdout",
     "output_type": "stream",
     "text": [
      "First list with square value [4, 9, 16, 25, 36, 49, 64, 81]\n",
      "Copy list with cube value [8, 27, 64, 125, 216, 343, 512, 729]\n"
     ]
    }
   ],
   "source": [
    "arr_list1 = [2,3,4,5,6,7,8,9]\n",
    "arr_list2 = arr_list1.copy()\n",
    "arr_list1 = [arr_list1[i]**2 for i in range(len(arr_list1))]\n",
    "print('First list with square value',arr_list1)\n",
    "arr_list2 = [arr_list2[i]**3 for i in range(len(arr_list2))]\n",
    "print('Copy list with cube value',arr_list2)"
   ]
  },
  {
   "attachments": {},
   "cell_type": "markdown",
   "id": "3107e151-8d9f-4f70-8f43-b0619606768d",
   "metadata": {},
   "source": [
    "## Question 3: Filtering Positive Numbers\n",
    "Given a list of numbers, create a new list that contains only the positive numbers from the original list. Implement this using list comprehension.\n"
   ]
  },
  {
   "cell_type": "code",
   "execution_count": 20,
   "id": "6b3fca58-f490-4220-b5d7-4ea0b620f11b",
   "metadata": {},
   "outputs": [
    {
     "name": "stdout",
     "output_type": "stream",
     "text": [
      "regular list  [-1, 10, 6, 7, 8, 4, 3, -21, -5, 10, -4, -12]\n",
      "Positive list  [10, 6, 7, 8, 4, 3, 10]\n"
     ]
    }
   ],
   "source": [
    "arr_list3 = [-1,10,6,7,8,4,3,-21,-5,10,-4,-12]\n",
    "arr_positivelist = [arr_list3[i] for i in range(len(arr_list3)) if arr_list3[i]>0]\n",
    "print('regular list ',arr_list3)\n",
    "print('Positive list ',arr_positivelist)"
   ]
  },
  {
   "cell_type": "markdown",
   "id": "c10e954b-652c-4b60-a23f-ace7e95415df",
   "metadata": {},
   "source": [
    "## Question 4: Sorting Student Names​\n",
    "\n",
    "You have a list of student names. Implement a program to sort the names alphabetically and display the sorted list."
   ]
  },
  {
   "cell_type": "code",
   "execution_count": 26,
   "id": "a8a86ae5-0117-40b6-9566-887373c80b27",
   "metadata": {},
   "outputs": [
    {
     "name": "stdout",
     "output_type": "stream",
     "text": [
      "['Akash', 'Mia', 'Soundar', 'Sowmia', 'Tarun', 'Tim', 'Vignesh', 'zack']\n"
     ]
    }
   ],
   "source": [
    "Name_list = ['Tim','zack','Vignesh','Tarun','Sowmia','Soundar','Akash','Mia']\n",
    "Name_list.sort()\n",
    "print(Name_list)"
   ]
  },
  {
   "cell_type": "code",
   "execution_count": 30,
   "id": "11e32f5b-1d75-419a-9e7b-d767dd753eeb",
   "metadata": {},
   "outputs": [
    {
     "name": "stdout",
     "output_type": "stream",
     "text": [
      "['zack', 'Vignesh', 'Tim', 'Tarun', 'Sowmia', 'Soundar', 'Mia', 'Akash']\n"
     ]
    }
   ],
   "source": [
    "Name_list = ['Tim','zack','Vignesh','Tarun','Sowmia','Soundar','Akash','Mia']\n",
    "Name_list.sort(reverse=True)\n",
    "print(Name_list)"
   ]
  },
  {
   "cell_type": "code",
   "execution_count": null,
   "id": "cfe0e260-063e-41de-98e8-4881f7a9961b",
   "metadata": {},
   "outputs": [],
   "source": []
  }
 ],
 "metadata": {
  "kernelspec": {
   "display_name": "Python 3 (ipykernel)",
   "language": "python",
   "name": "python3"
  },
  "language_info": {
   "codemirror_mode": {
    "name": "ipython",
    "version": 3
   },
   "file_extension": ".py",
   "mimetype": "text/x-python",
   "name": "python",
   "nbconvert_exporter": "python",
   "pygments_lexer": "ipython3",
   "version": "3.12.3"
  }
 },
 "nbformat": 4,
 "nbformat_minor": 5
}
