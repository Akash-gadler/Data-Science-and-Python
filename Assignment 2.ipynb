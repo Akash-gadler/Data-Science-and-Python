{
 "cells": [
  {
   "cell_type": "markdown",
   "id": "961320d0-a374-4823-ba2b-27290f5ff88c",
   "metadata": {},
   "source": [
    "# Assignment Bubble Sort\n"
   ]
  },
  {
   "cell_type": "code",
   "execution_count": 65,
   "id": "f8f95c75-3aae-4ec9-9bf9-1a144c1741a0",
   "metadata": {},
   "outputs": [
    {
     "name": "stdout",
     "output_type": "stream",
     "text": [
      "Pass 0\n",
      "[10, 2, 13, 4, 56, 9, -1]\n",
      "[2, 10, 13, 4, 56, 9, -1]\n",
      "[2, 10, 13, 4, 56, 9, -1]\n",
      "[2, 10, 4, 13, 56, 9, -1]\n",
      "[2, 10, 4, 13, 56, 9, -1]\n",
      "[2, 10, 4, 13, 9, 56, -1]\n",
      "Pass 1\n",
      "[2, 10, 4, 13, 9, -1, 56]\n",
      "[2, 10, 4, 13, 9, -1, 56]\n",
      "[2, 4, 10, 13, 9, -1, 56]\n",
      "[2, 4, 10, 13, 9, -1, 56]\n",
      "[2, 4, 10, 9, 13, -1, 56]\n",
      "[2, 4, 10, 9, -1, 13, 56]\n",
      "Pass 2\n",
      "[2, 4, 10, 9, -1, 13, 56]\n",
      "[2, 4, 10, 9, -1, 13, 56]\n",
      "[2, 4, 10, 9, -1, 13, 56]\n",
      "[2, 4, 9, 10, -1, 13, 56]\n",
      "[2, 4, 9, -1, 10, 13, 56]\n",
      "[2, 4, 9, -1, 10, 13, 56]\n",
      "Pass 3\n",
      "[2, 4, 9, -1, 10, 13, 56]\n",
      "[2, 4, 9, -1, 10, 13, 56]\n",
      "[2, 4, 9, -1, 10, 13, 56]\n",
      "[2, 4, -1, 9, 10, 13, 56]\n",
      "[2, 4, -1, 9, 10, 13, 56]\n",
      "[2, 4, -1, 9, 10, 13, 56]\n",
      "Pass 4\n",
      "[2, 4, -1, 9, 10, 13, 56]\n",
      "[2, 4, -1, 9, 10, 13, 56]\n",
      "[2, -1, 4, 9, 10, 13, 56]\n",
      "[2, -1, 4, 9, 10, 13, 56]\n",
      "[2, -1, 4, 9, 10, 13, 56]\n",
      "[2, -1, 4, 9, 10, 13, 56]\n",
      "Pass 5\n",
      "[2, -1, 4, 9, 10, 13, 56]\n",
      "[-1, 2, 4, 9, 10, 13, 56]\n",
      "[-1, 2, 4, 9, 10, 13, 56]\n",
      "[-1, 2, 4, 9, 10, 13, 56]\n",
      "[-1, 2, 4, 9, 10, 13, 56]\n",
      "[-1, 2, 4, 9, 10, 13, 56]\n"
     ]
    }
   ],
   "source": [
    "arr = [10,2,13,4,56,9,-1]\n",
    "for j in range(len(arr)-1):\n",
    "    print(\"Pass\", j)\n",
    "    for i in range(len(arr)-1):\n",
    "        print(arr)\n",
    "        if ((i < len(arr)) and (arr[i] > arr[i+1])):\n",
    "            temp = arr[i]\n",
    "            arr[i] = arr[i+1]\n",
    "            arr[i+1] = temp\n",
    "    j = j+1\n",
    "    \n",
    "    \n"
   ]
  },
  {
   "cell_type": "markdown",
   "id": "bb68c0a8-1b9e-47e7-bed6-110f228ce7dc",
   "metadata": {},
   "source": [
    "# Assignment Insertion Sort"
   ]
  },
  {
   "cell_type": "code",
   "execution_count": 126,
   "id": "0010a6c5-7099-4fb2-9869-fb1f86814889",
   "metadata": {},
   "outputs": [
    {
     "name": "stdout",
     "output_type": "stream",
     "text": [
      "1\n",
      "[2, 10, 13, 4, 56, 9, -1]\n",
      "3\n",
      "[2, 4, 13, 10, 56, 9, -1]\n",
      "3\n",
      "[2, 4, 10, 13, 56, 9, -1]\n",
      "5\n",
      "[2, 4, 9, 13, 56, 10, -1]\n",
      "5\n",
      "[2, 4, 9, 10, 56, 13, -1]\n",
      "5\n",
      "[2, 4, 9, 10, 13, 56, -1]\n",
      "6\n",
      "[-1, 4, 9, 10, 13, 56, 2]\n",
      "6\n",
      "[-1, 2, 9, 10, 13, 56, 4]\n",
      "6\n",
      "[-1, 2, 4, 10, 13, 56, 9]\n",
      "6\n",
      "[-1, 2, 4, 9, 13, 56, 10]\n",
      "6\n",
      "[-1, 2, 4, 9, 10, 56, 13]\n",
      "6\n",
      "[-1, 2, 4, 9, 10, 13, 56]\n"
     ]
    }
   ],
   "source": [
    "arr = [10,2,13,4,56,9,-1]\n",
    "for j in range(len(arr)-1):\n",
    "    for i in range(j+1):\n",
    "        if( arr[j+1] < arr[i]):\n",
    "            print(j+1)\n",
    "            temp = arr[i]\n",
    "            arr[i] = arr[j+1]\n",
    "            arr[j+1] = temp;\n",
    "            print(arr)\n",
    "           \n",
    "           \n",
    "   \n",
    "    \n"
   ]
  },
  {
   "cell_type": "code",
   "execution_count": null,
   "id": "8ffca040-5352-46ad-a2be-c1a33bf4d417",
   "metadata": {},
   "outputs": [],
   "source": []
  }
 ],
 "metadata": {
  "kernelspec": {
   "display_name": "Python 3 (ipykernel)",
   "language": "python",
   "name": "python3"
  },
  "language_info": {
   "codemirror_mode": {
    "name": "ipython",
    "version": 3
   },
   "file_extension": ".py",
   "mimetype": "text/x-python",
   "name": "python",
   "nbconvert_exporter": "python",
   "pygments_lexer": "ipython3",
   "version": "3.12.3"
  }
 },
 "nbformat": 4,
 "nbformat_minor": 5
}
